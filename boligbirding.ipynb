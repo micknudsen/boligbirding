{
 "cells": [
  {
   "cell_type": "code",
   "execution_count": 29,
   "id": "679a302c-3b48-4d2a-a3a9-a2b2fd95ae9f",
   "metadata": {
    "tags": []
   },
   "outputs": [],
   "source": [
    "from enum import Enum\n",
    "from typing import Dict, List\n",
    "from urllib import request\n",
    "\n",
    "import re\n",
    "\n",
    "import pandas as pd"
   ]
  },
  {
   "cell_type": "code",
   "execution_count": 30,
   "id": "965843ae",
   "metadata": {},
   "outputs": [],
   "source": [
    "OBSERVERS = [\n",
    "    \"8500LOEL\",\n",
    "    \"8930MK\",\n",
    "    \"8660BW\",\n",
    "    \"8380NKBJ\",\n",
    "]"
   ]
  },
  {
   "cell_type": "code",
   "execution_count": 31,
   "id": "df6b414e",
   "metadata": {},
   "outputs": [],
   "source": [
    "class Season(Enum):\n",
    "    SPRING = 1\n",
    "    FALL = 2"
   ]
  },
  {
   "cell_type": "code",
   "execution_count": 32,
   "id": "74880a77-5ba8-4c58-b701-0808ebea7f22",
   "metadata": {},
   "outputs": [],
   "source": [
    "def get_observations(\n",
    "    observer: str,\n",
    "    year: int,\n",
    "    season: Season,\n",
    ") -> pd.DataFrame:\n",
    "    \"\"\"Query DOFbasen for observations by a given observer in a given year and\n",
    "    season. Returns a pandas DataFrame with the result.\"\"\"\n",
    "    \n",
    "    url = \"&\".join(\n",
    "        [\n",
    "            \"https://dofbasen.dk/excel/search_result1.php?design=excel\",\n",
    "            \"soeg=soeg\",\n",
    "            \"periode=maanedaar\",\n",
    "            f\"aar_first={year}\",\n",
    "            f\"aar_second={year}\"\n",
    "            f\"halvaar={season.value}\",\n",
    "            \"obstype=observationer\",\n",
    "            \"species=alle\",\n",
    "            f\"obserdata={observer}\",\n",
    "            \"textsearch=Boligbirding\",\n",
    "            \"sortering=dato\"\n",
    "        ]\n",
    "    )\n",
    "\n",
    "    data = [\n",
    "        line.decode(\"ISO-8859-1\").strip().split(\";\")\n",
    "        for line in request.urlopen(url)\n",
    "    ]\n",
    "\n",
    "    # Output from DOFbasen is in an outdated format with a strange encoding,\n",
    "    # so we must do some manual clenup here and there. This parts fixes issues,\n",
    "    # where the user has entered a newline in the comment field.\n",
    "\n",
    "    sanitized_data: List[str] = []\n",
    "\n",
    "    # Add header to sanitized data.\n",
    "    sanitized_data.append(data[0])\n",
    "\n",
    "    def is_date(string: str) -> bool:\n",
    "        \"\"\"Helper function to check if a string is a date in the format YYYY-MM-DD\"\"\"\n",
    "        return re.match(r\"^\\d{4}-\\d{2}-\\d{2}$\", string)\n",
    "\n",
    "    i = 1  # First data row in data.\n",
    "\n",
    "    while i < len(data):\n",
    "\n",
    "        # We have reached the end of the data and there is nothing to peek at.\n",
    "        if i == len(data) - 1:\n",
    "            sanitized_data.append(data[i])\n",
    "            break\n",
    "\n",
    "        # If row does not start with a date, it is not a valid entry.\n",
    "        if not is_date(data[i][0]):\n",
    "            i += 1\n",
    "            continue\n",
    "\n",
    "        # Row starts with a data. Have a peak at the following row. If it does not start\n",
    "        # with a date, is is a continuation of the current row.\n",
    "        if not is_date(data[i+1][0]):\n",
    "            merged_entry = data[i][:-1] + [data[i][-1] + data[i+1][0]] + data[i+1][1:]\n",
    "            sanitized_data.append(merged_entry)\n",
    "            i += 1\n",
    "            continue\n",
    "        \n",
    "        # Row starts with a date and the following row also starts with a date,\n",
    "        # so everything is fine.\n",
    "        sanitized_data.append(data[i])\n",
    "        i += 1\n",
    "\n",
    "    return pd.DataFrame(dict(zip(sanitized_data[0], sanitized_data[i])) for i in range(1, len(sanitized_data)))\n"
   ]
  },
  {
   "cell_type": "code",
   "execution_count": 33,
   "id": "3a6fef2f",
   "metadata": {},
   "outputs": [],
   "source": [
    "def get_first_observations(\n",
    "    observer: str,\n",
    "    year: int,\n",
    "    season: Season,\n",
    ") -> Dict[str, str]:\n",
    "    \"\"\"Get the first observation of each species by a given observer in a given\n",
    "    year and season. Returns a dictionary with species names as keys and dates\n",
    "    as values.\"\"\"\n",
    "    \n",
    "    data = get_observations(\n",
    "        observer=observer,\n",
    "        year=year,\n",
    "        season=season,\n",
    "    )\n",
    "    return {\n",
    "        species.replace('\"', ''): data[data[\"Artnavn\"] == species][\"Dato\"].min() for species in data[\"Artnavn\"].unique()\n",
    "    }"
   ]
  },
  {
   "cell_type": "code",
   "execution_count": 34,
   "id": "3c7db901",
   "metadata": {},
   "outputs": [],
   "source": [
    "def create_table(\n",
    "    observers: List[str],\n",
    "    year: int,\n",
    "    season: Season,\n",
    ") -> pd.DataFrame:\n",
    "    \"\"\"Create a table with the first observations of each species by a list of\n",
    "    observers in a given year and season. Returns a pandas DataFrame with the\n",
    "    result.\"\"\"    \n",
    "\n",
    "    return pd.DataFrame({observer: get_first_observations(observer, year, season) for observer in observers})"
   ]
  },
  {
   "cell_type": "code",
   "execution_count": 35,
   "id": "61b81261",
   "metadata": {},
   "outputs": [],
   "source": [
    "# Example usage:\n",
    "\n",
    "create_table(\n",
    "    observers=OBSERVERS,\n",
    "    year=2023,\n",
    "    season=Season.FALL,\n",
    ").to_csv(\"example.tsv\", sep=\"\\t\")"
   ]
  }
 ],
 "metadata": {
  "kernelspec": {
   "display_name": "Python 3 (ipykernel)",
   "language": "python",
   "name": "python3"
  },
  "language_info": {
   "codemirror_mode": {
    "name": "ipython",
    "version": 3
   },
   "file_extension": ".py",
   "mimetype": "text/x-python",
   "name": "python",
   "nbconvert_exporter": "python",
   "pygments_lexer": "ipython3",
   "version": "3.11.0"
  }
 },
 "nbformat": 4,
 "nbformat_minor": 5
}
